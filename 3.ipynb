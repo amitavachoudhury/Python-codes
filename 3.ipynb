{
 "cells": [
  {
   "cell_type": "markdown",
   "metadata": {},
   "source": [
    "## The `functools` module\n",
    "\n",
    "The `functools` module provides higher-level functions, many of which or often used in combination with iterators."
   ]
  },
  {
   "cell_type": "code",
   "execution_count": 1,
   "metadata": {},
   "outputs": [],
   "source": [
    "import functools as ft"
   ]
  },
  {
   "cell_type": "markdown",
   "metadata": {},
   "source": [
    "The `partial()` function binds arguments to a function, so that they function can later be called without passing this argument. \n",
    "\n",
    "This is related to the functional-programming concept *currying*, in which a single function that takes multiple arguments is turned into a chain of functions that each take on argument."
   ]
  },
  {
   "cell_type": "code",
   "execution_count": 3,
   "metadata": {},
   "outputs": [
    {
     "name": "stdout",
     "output_type": "stream",
     "text": [
      "3.0\n",
      "3.0\n"
     ]
    }
   ],
   "source": [
    "import math\n",
    "\n",
    "print(math.sqrt(9))\n",
    "sqrt_9 = ft.partial(math.sqrt, 9)\n",
    "print(sqrt_9())"
   ]
  },
  {
   "cell_type": "markdown",
   "metadata": {},
   "source": [
    "The `@lru_cache()` decorator remembers the results of a function call, and, when the function is called again with the same set of arguments, returns this result right away. This is a form of caching, and is related to the functional-programming concept *memoization*."
   ]
  },
  {
   "cell_type": "code",
   "execution_count": 10,
   "metadata": {},
   "outputs": [
    {
     "name": "stdout",
     "output_type": "stream",
     "text": [
      "9973\n",
      "9973\n",
      "First took 91.15 ms\n",
      "Then took 0.31 ms\n"
     ]
    }
   ],
   "source": [
    "import itertools as it\n",
    "import time\n",
    "\n",
    "@ft.lru_cache()\n",
    "def prime_below(x):\n",
    "\n",
    "    return next(\n",
    "        it.dropwhile(\n",
    "            lambda x: any(x//i == float(x)/i for i in range(x-1, 2, -1)),\n",
    "            range(x-1, 0, -1)\n",
    "            )\n",
    "        )\n",
    "\n",
    "t0 = time.time()\n",
    "print(prime_below(10000))\n",
    "t1 = time.time()\n",
    "print(prime_below(10000))\n",
    "t2 = time.time()\n",
    "print('First took %.2f ms' % (1000.*(t1-t0)))\n",
    "print('Then took %.2f ms' % (1000.*(t2-t1)))"
   ]
  },
  {
   "cell_type": "markdown",
   "metadata": {},
   "source": [
    "The `@singledispatch` decorator allows you to create different implementations of a function, given different argument types. The type of the *first* argument is used to decide which implementation of the function should be used."
   ]
  },
  {
   "cell_type": "code",
   "execution_count": 15,
   "metadata": {},
   "outputs": [
    {
     "name": "stdout",
     "output_type": "stream",
     "text": [
      "3\n"
     ]
    }
   ],
   "source": [
    "@ft.singledispatch\n",
    "def add(a, b):\n",
    "    return a+b\n",
    "\n",
    "@add.register(str)\n",
    "def _(a, b):\n",
    "    return int(a)+int(b)\n",
    "\n",
    "print(add('1', '2'))"
   ]
  }
 ],
 "metadata": {
  "kernelspec": {
   "display_name": "Python 3",
   "language": "python",
   "name": "python3"
  },
  "language_info": {
   "codemirror_mode": {
    "name": "ipython",
    "version": 3
   },
   "file_extension": ".py",
   "mimetype": "text/x-python",
   "name": "python",
   "nbconvert_exporter": "python",
   "pygments_lexer": "ipython3",
   "version": "3.6.5"
  }
 },
 "nbformat": 4,
 "nbformat_minor": 2
}
